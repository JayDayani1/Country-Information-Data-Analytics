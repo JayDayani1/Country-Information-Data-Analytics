{
 "cells": [
  {
   "cell_type": "code",
   "execution_count": null,
   "metadata": {
    "id": "dlaFMbh6JgVj"
   },
   "outputs": [],
   "source": [
    "import pandas as pd\n",
    "import numpy as np\n",
    "import matplotlib.pyplot as plt"
   ]
  },
  {
   "cell_type": "code",
   "execution_count": null,
   "metadata": {
    "colab": {
     "base_uri": "https://localhost:8080/",
     "height": 206
    },
    "id": "fEEvPEpES61u",
    "outputId": "4b0cba9a-c175-423a-89b1-c6f76505235f"
   },
   "outputs": [
    {
     "data": {
      "text/html": [
       "\n",
       "  <div id=\"df-82520d9d-46b3-4f32-9bba-ccb0b2297c12\">\n",
       "    <div class=\"colab-df-container\">\n",
       "      <div>\n",
       "<style scoped>\n",
       "    .dataframe tbody tr th:only-of-type {\n",
       "        vertical-align: middle;\n",
       "    }\n",
       "\n",
       "    .dataframe tbody tr th {\n",
       "        vertical-align: top;\n",
       "    }\n",
       "\n",
       "    .dataframe thead th {\n",
       "        text-align: right;\n",
       "    }\n",
       "</style>\n",
       "<table border=\"1\" class=\"dataframe\">\n",
       "  <thead>\n",
       "    <tr style=\"text-align: right;\">\n",
       "      <th></th>\n",
       "      <th>Region</th>\n",
       "      <th>Age</th>\n",
       "      <th>Income</th>\n",
       "      <th>Online Shopper</th>\n",
       "    </tr>\n",
       "  </thead>\n",
       "  <tbody>\n",
       "    <tr>\n",
       "      <th>0</th>\n",
       "      <td>India</td>\n",
       "      <td>49.0</td>\n",
       "      <td>86400.0</td>\n",
       "      <td>No</td>\n",
       "    </tr>\n",
       "    <tr>\n",
       "      <th>1</th>\n",
       "      <td>Brazil</td>\n",
       "      <td>32.0</td>\n",
       "      <td>57600.0</td>\n",
       "      <td>Yes</td>\n",
       "    </tr>\n",
       "    <tr>\n",
       "      <th>2</th>\n",
       "      <td>USA</td>\n",
       "      <td>35.0</td>\n",
       "      <td>64800.0</td>\n",
       "      <td>No</td>\n",
       "    </tr>\n",
       "    <tr>\n",
       "      <th>3</th>\n",
       "      <td>Brazil</td>\n",
       "      <td>43.0</td>\n",
       "      <td>73200.0</td>\n",
       "      <td>No</td>\n",
       "    </tr>\n",
       "    <tr>\n",
       "      <th>4</th>\n",
       "      <td>USA</td>\n",
       "      <td>45.0</td>\n",
       "      <td>NaN</td>\n",
       "      <td>Yes</td>\n",
       "    </tr>\n",
       "  </tbody>\n",
       "</table>\n",
       "</div>\n",
       "      <button class=\"colab-df-convert\" onclick=\"convertToInteractive('df-82520d9d-46b3-4f32-9bba-ccb0b2297c12')\"\n",
       "              title=\"Convert this dataframe to an interactive table.\"\n",
       "              style=\"display:none;\">\n",
       "        \n",
       "  <svg xmlns=\"http://www.w3.org/2000/svg\" height=\"24px\"viewBox=\"0 0 24 24\"\n",
       "       width=\"24px\">\n",
       "    <path d=\"M0 0h24v24H0V0z\" fill=\"none\"/>\n",
       "    <path d=\"M18.56 5.44l.94 2.06.94-2.06 2.06-.94-2.06-.94-.94-2.06-.94 2.06-2.06.94zm-11 1L8.5 8.5l.94-2.06 2.06-.94-2.06-.94L8.5 2.5l-.94 2.06-2.06.94zm10 10l.94 2.06.94-2.06 2.06-.94-2.06-.94-.94-2.06-.94 2.06-2.06.94z\"/><path d=\"M17.41 7.96l-1.37-1.37c-.4-.4-.92-.59-1.43-.59-.52 0-1.04.2-1.43.59L10.3 9.45l-7.72 7.72c-.78.78-.78 2.05 0 2.83L4 21.41c.39.39.9.59 1.41.59.51 0 1.02-.2 1.41-.59l7.78-7.78 2.81-2.81c.8-.78.8-2.07 0-2.86zM5.41 20L4 18.59l7.72-7.72 1.47 1.35L5.41 20z\"/>\n",
       "  </svg>\n",
       "      </button>\n",
       "      \n",
       "  <style>\n",
       "    .colab-df-container {\n",
       "      display:flex;\n",
       "      flex-wrap:wrap;\n",
       "      gap: 12px;\n",
       "    }\n",
       "\n",
       "    .colab-df-convert {\n",
       "      background-color: #E8F0FE;\n",
       "      border: none;\n",
       "      border-radius: 50%;\n",
       "      cursor: pointer;\n",
       "      display: none;\n",
       "      fill: #1967D2;\n",
       "      height: 32px;\n",
       "      padding: 0 0 0 0;\n",
       "      width: 32px;\n",
       "    }\n",
       "\n",
       "    .colab-df-convert:hover {\n",
       "      background-color: #E2EBFA;\n",
       "      box-shadow: 0px 1px 2px rgba(60, 64, 67, 0.3), 0px 1px 3px 1px rgba(60, 64, 67, 0.15);\n",
       "      fill: #174EA6;\n",
       "    }\n",
       "\n",
       "    [theme=dark] .colab-df-convert {\n",
       "      background-color: #3B4455;\n",
       "      fill: #D2E3FC;\n",
       "    }\n",
       "\n",
       "    [theme=dark] .colab-df-convert:hover {\n",
       "      background-color: #434B5C;\n",
       "      box-shadow: 0px 1px 3px 1px rgba(0, 0, 0, 0.15);\n",
       "      filter: drop-shadow(0px 1px 2px rgba(0, 0, 0, 0.3));\n",
       "      fill: #FFFFFF;\n",
       "    }\n",
       "  </style>\n",
       "\n",
       "      <script>\n",
       "        const buttonEl =\n",
       "          document.querySelector('#df-82520d9d-46b3-4f32-9bba-ccb0b2297c12 button.colab-df-convert');\n",
       "        buttonEl.style.display =\n",
       "          google.colab.kernel.accessAllowed ? 'block' : 'none';\n",
       "\n",
       "        async function convertToInteractive(key) {\n",
       "          const element = document.querySelector('#df-82520d9d-46b3-4f32-9bba-ccb0b2297c12');\n",
       "          const dataTable =\n",
       "            await google.colab.kernel.invokeFunction('convertToInteractive',\n",
       "                                                     [key], {});\n",
       "          if (!dataTable) return;\n",
       "\n",
       "          const docLinkHtml = 'Like what you see? Visit the ' +\n",
       "            '<a target=\"_blank\" href=https://colab.research.google.com/notebooks/data_table.ipynb>data table notebook</a>'\n",
       "            + ' to learn more about interactive tables.';\n",
       "          element.innerHTML = '';\n",
       "          dataTable['output_type'] = 'display_data';\n",
       "          await google.colab.output.renderOutput(dataTable, element);\n",
       "          const docLink = document.createElement('div');\n",
       "          docLink.innerHTML = docLinkHtml;\n",
       "          element.appendChild(docLink);\n",
       "        }\n",
       "      </script>\n",
       "    </div>\n",
       "  </div>\n",
       "  "
      ],
      "text/plain": [
       "   Region   Age   Income Online Shopper\n",
       "0   India  49.0  86400.0             No\n",
       "1  Brazil  32.0  57600.0            Yes\n",
       "2     USA  35.0  64800.0             No\n",
       "3  Brazil  43.0  73200.0             No\n",
       "4     USA  45.0      NaN            Yes"
      ]
     },
     "execution_count": 7,
     "metadata": {},
     "output_type": "execute_result"
    }
   ],
   "source": [
    "CountryInfo = pd.read_csv('Assi1 noisy_data (1).csv')\n",
    "CountryInfo.head()"
   ]
  },
  {
   "cell_type": "markdown",
   "metadata": {
    "id": "8NKZxYZmWFYe"
   },
   "source": [
    "Here We will check the is there any null value or not "
   ]
  },
  {
   "cell_type": "code",
   "execution_count": null,
   "metadata": {
    "colab": {
     "base_uri": "https://localhost:8080/"
    },
    "id": "w2LtWUfFWMYF",
    "outputId": "bdcf7dd8-61ab-453a-942f-0da44423cfda"
   },
   "outputs": [
    {
     "data": {
      "text/plain": [
       "Region            False\n",
       "Age                True\n",
       "Income             True\n",
       "Online Shopper    False\n",
       "dtype: bool"
      ]
     },
     "execution_count": 13,
     "metadata": {},
     "output_type": "execute_result"
    }
   ],
   "source": [
    "CountryInfo.isnull().any()"
   ]
  },
  {
   "cell_type": "markdown",
   "metadata": {
    "id": "1MW8GKH6WRHf"
   },
   "source": [
    "Here we got null values in Age and Income"
   ]
  },
  {
   "cell_type": "code",
   "execution_count": null,
   "metadata": {
    "id": "pCvQ-xdcWWvJ"
   },
   "outputs": [],
   "source": [
    "from sklearn.impute import SimpleImputer\n",
    "dataCopy = CountryInfo.copy()\n",
    "meanValueImputer = SimpleImputer(strategy='mean')\n",
    "dataCopy['Age'] = meanValueImputer.fit_transform(dataCopy['Age'].values.reshape(-1,1))\n",
    "dataCopy['Income'] = meanValueImputer.fit_transform(dataCopy['Income'].values.reshape(-1,1))"
   ]
  },
  {
   "cell_type": "code",
   "execution_count": null,
   "metadata": {
    "colab": {
     "base_uri": "https://localhost:8080/"
    },
    "id": "-C0ogdsXXipe",
    "outputId": "e44a38ed-7564-4a6a-e989-86a2b98e1e5d"
   },
   "outputs": [
    {
     "data": {
      "text/plain": [
       "Region            False\n",
       "Age               False\n",
       "Income            False\n",
       "Online Shopper    False\n",
       "dtype: bool"
      ]
     },
     "execution_count": 16,
     "metadata": {},
     "output_type": "execute_result"
    }
   ],
   "source": [
    "dataCopy.isnull().any()"
   ]
  },
  {
   "cell_type": "markdown",
   "metadata": {
    "id": "LA-0h9T1YKZ1"
   },
   "source": [
    "Now we made new file in which we do not have any null value\n"
   ]
  },
  {
   "cell_type": "code",
   "execution_count": null,
   "metadata": {
    "colab": {
     "base_uri": "https://localhost:8080/",
     "height": 206
    },
    "id": "7d094PkiYQb-",
    "outputId": "36c411a2-56b2-4e77-e224-3d31c3978371"
   },
   "outputs": [
    {
     "data": {
      "text/html": [
       "\n",
       "  <div id=\"df-c1c5fed0-c57f-4c77-89f1-ac8565bd99ab\">\n",
       "    <div class=\"colab-df-container\">\n",
       "      <div>\n",
       "<style scoped>\n",
       "    .dataframe tbody tr th:only-of-type {\n",
       "        vertical-align: middle;\n",
       "    }\n",
       "\n",
       "    .dataframe tbody tr th {\n",
       "        vertical-align: top;\n",
       "    }\n",
       "\n",
       "    .dataframe thead th {\n",
       "        text-align: right;\n",
       "    }\n",
       "</style>\n",
       "<table border=\"1\" class=\"dataframe\">\n",
       "  <thead>\n",
       "    <tr style=\"text-align: right;\">\n",
       "      <th></th>\n",
       "      <th>Region</th>\n",
       "      <th>Age</th>\n",
       "      <th>Income</th>\n",
       "      <th>Online Shopper</th>\n",
       "    </tr>\n",
       "  </thead>\n",
       "  <tbody>\n",
       "    <tr>\n",
       "      <th>0</th>\n",
       "      <td>India</td>\n",
       "      <td>49.0</td>\n",
       "      <td>86400.000000</td>\n",
       "      <td>No</td>\n",
       "    </tr>\n",
       "    <tr>\n",
       "      <th>1</th>\n",
       "      <td>Brazil</td>\n",
       "      <td>32.0</td>\n",
       "      <td>57600.000000</td>\n",
       "      <td>Yes</td>\n",
       "    </tr>\n",
       "    <tr>\n",
       "      <th>2</th>\n",
       "      <td>USA</td>\n",
       "      <td>35.0</td>\n",
       "      <td>64800.000000</td>\n",
       "      <td>No</td>\n",
       "    </tr>\n",
       "    <tr>\n",
       "      <th>3</th>\n",
       "      <td>Brazil</td>\n",
       "      <td>43.0</td>\n",
       "      <td>73200.000000</td>\n",
       "      <td>No</td>\n",
       "    </tr>\n",
       "    <tr>\n",
       "      <th>4</th>\n",
       "      <td>USA</td>\n",
       "      <td>45.0</td>\n",
       "      <td>76533.333333</td>\n",
       "      <td>Yes</td>\n",
       "    </tr>\n",
       "  </tbody>\n",
       "</table>\n",
       "</div>\n",
       "      <button class=\"colab-df-convert\" onclick=\"convertToInteractive('df-c1c5fed0-c57f-4c77-89f1-ac8565bd99ab')\"\n",
       "              title=\"Convert this dataframe to an interactive table.\"\n",
       "              style=\"display:none;\">\n",
       "        \n",
       "  <svg xmlns=\"http://www.w3.org/2000/svg\" height=\"24px\"viewBox=\"0 0 24 24\"\n",
       "       width=\"24px\">\n",
       "    <path d=\"M0 0h24v24H0V0z\" fill=\"none\"/>\n",
       "    <path d=\"M18.56 5.44l.94 2.06.94-2.06 2.06-.94-2.06-.94-.94-2.06-.94 2.06-2.06.94zm-11 1L8.5 8.5l.94-2.06 2.06-.94-2.06-.94L8.5 2.5l-.94 2.06-2.06.94zm10 10l.94 2.06.94-2.06 2.06-.94-2.06-.94-.94-2.06-.94 2.06-2.06.94z\"/><path d=\"M17.41 7.96l-1.37-1.37c-.4-.4-.92-.59-1.43-.59-.52 0-1.04.2-1.43.59L10.3 9.45l-7.72 7.72c-.78.78-.78 2.05 0 2.83L4 21.41c.39.39.9.59 1.41.59.51 0 1.02-.2 1.41-.59l7.78-7.78 2.81-2.81c.8-.78.8-2.07 0-2.86zM5.41 20L4 18.59l7.72-7.72 1.47 1.35L5.41 20z\"/>\n",
       "  </svg>\n",
       "      </button>\n",
       "      \n",
       "  <style>\n",
       "    .colab-df-container {\n",
       "      display:flex;\n",
       "      flex-wrap:wrap;\n",
       "      gap: 12px;\n",
       "    }\n",
       "\n",
       "    .colab-df-convert {\n",
       "      background-color: #E8F0FE;\n",
       "      border: none;\n",
       "      border-radius: 50%;\n",
       "      cursor: pointer;\n",
       "      display: none;\n",
       "      fill: #1967D2;\n",
       "      height: 32px;\n",
       "      padding: 0 0 0 0;\n",
       "      width: 32px;\n",
       "    }\n",
       "\n",
       "    .colab-df-convert:hover {\n",
       "      background-color: #E2EBFA;\n",
       "      box-shadow: 0px 1px 2px rgba(60, 64, 67, 0.3), 0px 1px 3px 1px rgba(60, 64, 67, 0.15);\n",
       "      fill: #174EA6;\n",
       "    }\n",
       "\n",
       "    [theme=dark] .colab-df-convert {\n",
       "      background-color: #3B4455;\n",
       "      fill: #D2E3FC;\n",
       "    }\n",
       "\n",
       "    [theme=dark] .colab-df-convert:hover {\n",
       "      background-color: #434B5C;\n",
       "      box-shadow: 0px 1px 3px 1px rgba(0, 0, 0, 0.15);\n",
       "      filter: drop-shadow(0px 1px 2px rgba(0, 0, 0, 0.3));\n",
       "      fill: #FFFFFF;\n",
       "    }\n",
       "  </style>\n",
       "\n",
       "      <script>\n",
       "        const buttonEl =\n",
       "          document.querySelector('#df-c1c5fed0-c57f-4c77-89f1-ac8565bd99ab button.colab-df-convert');\n",
       "        buttonEl.style.display =\n",
       "          google.colab.kernel.accessAllowed ? 'block' : 'none';\n",
       "\n",
       "        async function convertToInteractive(key) {\n",
       "          const element = document.querySelector('#df-c1c5fed0-c57f-4c77-89f1-ac8565bd99ab');\n",
       "          const dataTable =\n",
       "            await google.colab.kernel.invokeFunction('convertToInteractive',\n",
       "                                                     [key], {});\n",
       "          if (!dataTable) return;\n",
       "\n",
       "          const docLinkHtml = 'Like what you see? Visit the ' +\n",
       "            '<a target=\"_blank\" href=https://colab.research.google.com/notebooks/data_table.ipynb>data table notebook</a>'\n",
       "            + ' to learn more about interactive tables.';\n",
       "          element.innerHTML = '';\n",
       "          dataTable['output_type'] = 'display_data';\n",
       "          await google.colab.output.renderOutput(dataTable, element);\n",
       "          const docLink = document.createElement('div');\n",
       "          docLink.innerHTML = docLinkHtml;\n",
       "          element.appendChild(docLink);\n",
       "        }\n",
       "      </script>\n",
       "    </div>\n",
       "  </div>\n",
       "  "
      ],
      "text/plain": [
       "   Region   Age        Income Online Shopper\n",
       "0   India  49.0  86400.000000             No\n",
       "1  Brazil  32.0  57600.000000            Yes\n",
       "2     USA  35.0  64800.000000             No\n",
       "3  Brazil  43.0  73200.000000             No\n",
       "4     USA  45.0  76533.333333            Yes"
      ]
     },
     "execution_count": 17,
     "metadata": {},
     "output_type": "execute_result"
    }
   ],
   "source": [
    "dataCopy.head()"
   ]
  },
  {
   "cell_type": "markdown",
   "metadata": {
    "id": "AKg8ugYlYdcD"
   },
   "source": [
    "Here we have only two numerical colums now we will check normality on a base of pvalue"
   ]
  },
  {
   "cell_type": "markdown",
   "metadata": {
    "id": "nlL3UdNpYzaD"
   },
   "source": [
    "Age"
   ]
  },
  {
   "cell_type": "code",
   "execution_count": null,
   "metadata": {
    "colab": {
     "base_uri": "https://localhost:8080/",
     "height": 295
    },
    "id": "WWQMN1nTY04c",
    "outputId": "34e08d15-c661-4830-9719-c13012f7d9f9"
   },
   "outputs": [
    {
     "data": {
      "image/png": "[encoded data removed]",
      "text/plain": [
       "<Figure size 432x288 with 1 Axes>"
      ]
     },
     "metadata": {
      "needs_background": "light"
     },
     "output_type": "display_data"
    }
   ],
   "source": [
    "from scipy import stats\n",
    "stats.probplot(dataCopy.Age, plot=plt)\n",
    "plt.show()"
   ]
  },
  {
   "cell_type": "code",
   "execution_count": null,
   "metadata": {
    "colab": {
     "base_uri": "https://localhost:8080/"
    },
    "id": "lJ-hUYjkY9Na",
    "outputId": "89cff2ec-d94e-4fba-be5c-f2a0df0b4ca7"
   },
   "outputs": [
    {
     "data": {
      "text/plain": [
       "ShapiroResult(statistic=0.9711921811103821, pvalue=0.9016733765602112)"
      ]
     },
     "execution_count": 19,
     "metadata": {},
     "output_type": "execute_result"
    }
   ],
   "source": [
    "stats.shapiro(dataCopy.Age)"
   ]
  },
  {
   "cell_type": "markdown",
   "metadata": {
    "id": "cGiyhYpzZIYG"
   },
   "source": [
    "pvalue>0.5 so we can say that Age == Normaly Distributed\n",
    "\n",
    "italicized text"
   ]
  },
  {
   "cell_type": "markdown",
   "metadata": {
    "id": "B8Ut4uLTZT_W"
   },
   "source": [
    "Income"
   ]
  },
  {
   "cell_type": "code",
   "execution_count": null,
   "metadata": {
    "colab": {
     "base_uri": "https://localhost:8080/",
     "height": 295
    },
    "id": "a9lJintXZXpi",
    "outputId": "c5cf1f1f-e9e7-467a-a6bc-7ff8564ae60d"
   },
   "outputs": [
    {
     "data": {
      "image/png": "[encoded data removed]",
      "text/plain": [
       "<Figure size 432x288 with 1 Axes>"
      ]
     },
     "metadata": {
      "needs_background": "light"
     },
     "output_type": "display_data"
    }
   ],
   "source": [
    "from scipy import stats\n",
    "stats.probplot(dataCopy.Income, plot=plt)\n",
    "plt.show()"
   ]
  },
  {
   "cell_type": "code",
   "execution_count": null,
   "metadata": {
    "colab": {
     "base_uri": "https://localhost:8080/"
    },
    "id": "IunhTposZc19",
    "outputId": "079c5445-711e-430c-ac0b-829ae2b43f06"
   },
   "outputs": [
    {
     "data": {
      "text/plain": [
       "ShapiroResult(statistic=0.9625767469406128, pvalue=0.8148082494735718)"
      ]
     },
     "execution_count": 21,
     "metadata": {},
     "output_type": "execute_result"
    }
   ],
   "source": [
    "stats.shapiro(dataCopy.Income)"
   ]
  },
  {
   "cell_type": "markdown",
   "metadata": {
    "id": "IfXDBsg1Zjpg"
   },
   "source": [
    "pvalue>0.5 so we can say that Income == Normaly Distributed\n",
    "\n",
    "so we can say that Age and Income are co-related\n"
   ]
  },
  {
   "cell_type": "markdown",
   "metadata": {
    "id": "I49bmo56ZwNw"
   },
   "source": [
    "Now let's check for categorical variable"
   ]
  },
  {
   "cell_type": "code",
   "execution_count": null,
   "metadata": {
    "colab": {
     "base_uri": "https://localhost:8080/",
     "height": 206
    },
    "id": "Om42sRZBZ3sn",
    "outputId": "612a7eee-f051-4ab6-d348-4b35b17c4943"
   },
   "outputs": [
    {
     "data": {
      "text/html": [
       "\n",
       "  <div id=\"df-8eca3015-af5a-4d93-99aa-4dbeea81425f\">\n",
       "    <div class=\"colab-df-container\">\n",
       "      <div>\n",
       "<style scoped>\n",
       "    .dataframe tbody tr th:only-of-type {\n",
       "        vertical-align: middle;\n",
       "    }\n",
       "\n",
       "    .dataframe tbody tr th {\n",
       "        vertical-align: top;\n",
       "    }\n",
       "\n",
       "    .dataframe thead th {\n",
       "        text-align: right;\n",
       "    }\n",
       "</style>\n",
       "<table border=\"1\" class=\"dataframe\">\n",
       "  <thead>\n",
       "    <tr style=\"text-align: right;\">\n",
       "      <th></th>\n",
       "      <th>Age</th>\n",
       "      <th>Income</th>\n",
       "      <th>Region</th>\n",
       "      <th>Online Shopper</th>\n",
       "    </tr>\n",
       "  </thead>\n",
       "  <tbody>\n",
       "    <tr>\n",
       "      <th>0</th>\n",
       "      <td>49.0</td>\n",
       "      <td>86400.000000</td>\n",
       "      <td>1</td>\n",
       "      <td>0</td>\n",
       "    </tr>\n",
       "    <tr>\n",
       "      <th>1</th>\n",
       "      <td>32.0</td>\n",
       "      <td>57600.000000</td>\n",
       "      <td>0</td>\n",
       "      <td>1</td>\n",
       "    </tr>\n",
       "    <tr>\n",
       "      <th>2</th>\n",
       "      <td>35.0</td>\n",
       "      <td>64800.000000</td>\n",
       "      <td>2</td>\n",
       "      <td>0</td>\n",
       "    </tr>\n",
       "    <tr>\n",
       "      <th>3</th>\n",
       "      <td>43.0</td>\n",
       "      <td>73200.000000</td>\n",
       "      <td>0</td>\n",
       "      <td>0</td>\n",
       "    </tr>\n",
       "    <tr>\n",
       "      <th>4</th>\n",
       "      <td>45.0</td>\n",
       "      <td>76533.333333</td>\n",
       "      <td>2</td>\n",
       "      <td>1</td>\n",
       "    </tr>\n",
       "  </tbody>\n",
       "</table>\n",
       "</div>\n",
       "      <button class=\"colab-df-convert\" onclick=\"convertToInteractive('df-8eca3015-af5a-4d93-99aa-4dbeea81425f')\"\n",
       "              title=\"Convert this dataframe to an interactive table.\"\n",
       "              style=\"display:none;\">\n",
       "        \n",
       "  <svg xmlns=\"http://www.w3.org/2000/svg\" height=\"24px\"viewBox=\"0 0 24 24\"\n",
       "       width=\"24px\">\n",
       "    <path d=\"M0 0h24v24H0V0z\" fill=\"none\"/>\n",
       "    <path d=\"M18.56 5.44l.94 2.06.94-2.06 2.06-.94-2.06-.94-.94-2.06-.94 2.06-2.06.94zm-11 1L8.5 8.5l.94-2.06 2.06-.94-2.06-.94L8.5 2.5l-.94 2.06-2.06.94zm10 10l.94 2.06.94-2.06 2.06-.94-2.06-.94-.94-2.06-.94 2.06-2.06.94z\"/><path d=\"M17.41 7.96l-1.37-1.37c-.4-.4-.92-.59-1.43-.59-.52 0-1.04.2-1.43.59L10.3 9.45l-7.72 7.72c-.78.78-.78 2.05 0 2.83L4 21.41c.39.39.9.59 1.41.59.51 0 1.02-.2 1.41-.59l7.78-7.78 2.81-2.81c.8-.78.8-2.07 0-2.86zM5.41 20L4 18.59l7.72-7.72 1.47 1.35L5.41 20z\"/>\n",
       "  </svg>\n",
       "      </button>\n",
       "      \n",
       "  <style>\n",
       "    .colab-df-container {\n",
       "      display:flex;\n",
       "      flex-wrap:wrap;\n",
       "      gap: 12px;\n",
       "    }\n",
       "\n",
       "    .colab-df-convert {\n",
       "      background-color: #E8F0FE;\n",
       "      border: none;\n",
       "      border-radius: 50%;\n",
       "      cursor: pointer;\n",
       "      display: none;\n",
       "      fill: #1967D2;\n",
       "      height: 32px;\n",
       "      padding: 0 0 0 0;\n",
       "      width: 32px;\n",
       "    }\n",
       "\n",
       "    .colab-df-convert:hover {\n",
       "      background-color: #E2EBFA;\n",
       "      box-shadow: 0px 1px 2px rgba(60, 64, 67, 0.3), 0px 1px 3px 1px rgba(60, 64, 67, 0.15);\n",
       "      fill: #174EA6;\n",
       "    }\n",
       "\n",
       "    [theme=dark] .colab-df-convert {\n",
       "      background-color: #3B4455;\n",
       "      fill: #D2E3FC;\n",
       "    }\n",
       "\n",
       "    [theme=dark] .colab-df-convert:hover {\n",
       "      background-color: #434B5C;\n",
       "      box-shadow: 0px 1px 3px 1px rgba(0, 0, 0, 0.15);\n",
       "      filter: drop-shadow(0px 1px 2px rgba(0, 0, 0, 0.3));\n",
       "      fill: #FFFFFF;\n",
       "    }\n",
       "  </style>\n",
       "\n",
       "      <script>\n",
       "        const buttonEl =\n",
       "          document.querySelector('#df-8eca3015-af5a-4d93-99aa-4dbeea81425f button.colab-df-convert');\n",
       "        buttonEl.style.display =\n",
       "          google.colab.kernel.accessAllowed ? 'block' : 'none';\n",
       "\n",
       "        async function convertToInteractive(key) {\n",
       "          const element = document.querySelector('#df-8eca3015-af5a-4d93-99aa-4dbeea81425f');\n",
       "          const dataTable =\n",
       "            await google.colab.kernel.invokeFunction('convertToInteractive',\n",
       "                                                     [key], {});\n",
       "          if (!dataTable) return;\n",
       "\n",
       "          const docLinkHtml = 'Like what you see? Visit the ' +\n",
       "            '<a target=\"_blank\" href=https://colab.research.google.com/notebooks/data_table.ipynb>data table notebook</a>'\n",
       "            + ' to learn more about interactive tables.';\n",
       "          element.innerHTML = '';\n",
       "          dataTable['output_type'] = 'display_data';\n",
       "          await google.colab.output.renderOutput(dataTable, element);\n",
       "          const docLink = document.createElement('div');\n",
       "          docLink.innerHTML = docLinkHtml;\n",
       "          element.appendChild(docLink);\n",
       "        }\n",
       "      </script>\n",
       "    </div>\n",
       "  </div>\n",
       "  "
      ],
      "text/plain": [
       "    Age        Income  Region  Online Shopper\n",
       "0  49.0  86400.000000       1               0\n",
       "1  32.0  57600.000000       0               1\n",
       "2  35.0  64800.000000       2               0\n",
       "3  43.0  73200.000000       0               0\n",
       "4  45.0  76533.333333       2               1"
      ]
     },
     "execution_count": 22,
     "metadata": {},
     "output_type": "execute_result"
    }
   ],
   "source": [
    "from sklearn.preprocessing import LabelEncoder\n",
    "\n",
    "encoder = LabelEncoder()\n",
    "\n",
    "# Encode the categorical variable \"Region\"\n",
    "encoded_region = encoder.fit_transform(dataCopy.Region)\n",
    "\n",
    "# Encode the categorical variable \"Online Shopper\"\n",
    "encoded_shopper = encoder.fit_transform(dataCopy['Online Shopper'])\n",
    "\n",
    "# Remove the original \"Region\" and \"Online Shopper\" columns from the dataset\n",
    "transformed_data = dataCopy.drop(['Region','Online Shopper'], axis='columns')\n",
    "\n",
    "# Add the encoded versions of the \"Region\" and \"Online Shopper\" columns to the dataset\n",
    "transformed_data['Region'] = encoded_region\n",
    "transformed_data['Online Shopper'] = encoded_shopper\n",
    "\n",
    "transformed_data.head()"
   ]
  },
  {
   "cell_type": "code",
   "execution_count": null,
   "metadata": {
    "colab": {
     "base_uri": "https://localhost:8080/",
     "height": 206
    },
    "id": "TfykL_YibuK3",
    "outputId": "b5a71dd7-901f-4194-c2a4-964eca5da4a3"
   },
   "outputs": [
    {
     "data": {
      "text/html": [
       "\n",
       "  <div id=\"df-f8dab1dd-bd39-4a92-b6a4-59af9610aae2\">\n",
       "    <div class=\"colab-df-container\">\n",
       "      <div>\n",
       "<style scoped>\n",
       "    .dataframe tbody tr th:only-of-type {\n",
       "        vertical-align: middle;\n",
       "    }\n",
       "\n",
       "    .dataframe tbody tr th {\n",
       "        vertical-align: top;\n",
       "    }\n",
       "\n",
       "    .dataframe thead th {\n",
       "        text-align: right;\n",
       "    }\n",
       "</style>\n",
       "<table border=\"1\" class=\"dataframe\">\n",
       "  <thead>\n",
       "    <tr style=\"text-align: right;\">\n",
       "      <th></th>\n",
       "      <th>Age</th>\n",
       "      <th>Income</th>\n",
       "      <th>Region</th>\n",
       "      <th>Online Shopper</th>\n",
       "    </tr>\n",
       "  </thead>\n",
       "  <tbody>\n",
       "    <tr>\n",
       "      <th>0</th>\n",
       "      <td>0.739130</td>\n",
       "      <td>0.685714</td>\n",
       "      <td>0.5</td>\n",
       "      <td>0.0</td>\n",
       "    </tr>\n",
       "    <tr>\n",
       "      <th>1</th>\n",
       "      <td>0.000000</td>\n",
       "      <td>0.000000</td>\n",
       "      <td>0.0</td>\n",
       "      <td>1.0</td>\n",
       "    </tr>\n",
       "    <tr>\n",
       "      <th>2</th>\n",
       "      <td>0.130435</td>\n",
       "      <td>0.171429</td>\n",
       "      <td>1.0</td>\n",
       "      <td>0.0</td>\n",
       "    </tr>\n",
       "    <tr>\n",
       "      <th>3</th>\n",
       "      <td>0.478261</td>\n",
       "      <td>0.371429</td>\n",
       "      <td>0.0</td>\n",
       "      <td>0.0</td>\n",
       "    </tr>\n",
       "    <tr>\n",
       "      <th>4</th>\n",
       "      <td>0.565217</td>\n",
       "      <td>0.450794</td>\n",
       "      <td>1.0</td>\n",
       "      <td>1.0</td>\n",
       "    </tr>\n",
       "  </tbody>\n",
       "</table>\n",
       "</div>\n",
       "      <button class=\"colab-df-convert\" onclick=\"convertToInteractive('df-f8dab1dd-bd39-4a92-b6a4-59af9610aae2')\"\n",
       "              title=\"Convert this dataframe to an interactive table.\"\n",
       "              style=\"display:none;\">\n",
       "        \n",
       "  <svg xmlns=\"http://www.w3.org/2000/svg\" height=\"24px\"viewBox=\"0 0 24 24\"\n",
       "       width=\"24px\">\n",
       "    <path d=\"M0 0h24v24H0V0z\" fill=\"none\"/>\n",
       "    <path d=\"M18.56 5.44l.94 2.06.94-2.06 2.06-.94-2.06-.94-.94-2.06-.94 2.06-2.06.94zm-11 1L8.5 8.5l.94-2.06 2.06-.94-2.06-.94L8.5 2.5l-.94 2.06-2.06.94zm10 10l.94 2.06.94-2.06 2.06-.94-2.06-.94-.94-2.06-.94 2.06-2.06.94z\"/><path d=\"M17.41 7.96l-1.37-1.37c-.4-.4-.92-.59-1.43-.59-.52 0-1.04.2-1.43.59L10.3 9.45l-7.72 7.72c-.78.78-.78 2.05 0 2.83L4 21.41c.39.39.9.59 1.41.59.51 0 1.02-.2 1.41-.59l7.78-7.78 2.81-2.81c.8-.78.8-2.07 0-2.86zM5.41 20L4 18.59l7.72-7.72 1.47 1.35L5.41 20z\"/>\n",
       "  </svg>\n",
       "      </button>\n",
       "      \n",
       "  <style>\n",
       "    .colab-df-container {\n",
       "      display:flex;\n",
       "      flex-wrap:wrap;\n",
       "      gap: 12px;\n",
       "    }\n",
       "\n",
       "    .colab-df-convert {\n",
       "      background-color: #E8F0FE;\n",
       "      border: none;\n",
       "      border-radius: 50%;\n",
       "      cursor: pointer;\n",
       "      display: none;\n",
       "      fill: #1967D2;\n",
       "      height: 32px;\n",
       "      padding: 0 0 0 0;\n",
       "      width: 32px;\n",
       "    }\n",
       "\n",
       "    .colab-df-convert:hover {\n",
       "      background-color: #E2EBFA;\n",
       "      box-shadow: 0px 1px 2px rgba(60, 64, 67, 0.3), 0px 1px 3px 1px rgba(60, 64, 67, 0.15);\n",
       "      fill: #174EA6;\n",
       "    }\n",
       "\n",
       "    [theme=dark] .colab-df-convert {\n",
       "      background-color: #3B4455;\n",
       "      fill: #D2E3FC;\n",
       "    }\n",
       "\n",
       "    [theme=dark] .colab-df-convert:hover {\n",
       "      background-color: #434B5C;\n",
       "      box-shadow: 0px 1px 3px 1px rgba(0, 0, 0, 0.15);\n",
       "      filter: drop-shadow(0px 1px 2px rgba(0, 0, 0, 0.3));\n",
       "      fill: #FFFFFF;\n",
       "    }\n",
       "  </style>\n",
       "\n",
       "      <script>\n",
       "        const buttonEl =\n",
       "          document.querySelector('#df-f8dab1dd-bd39-4a92-b6a4-59af9610aae2 button.colab-df-convert');\n",
       "        buttonEl.style.display =\n",
       "          google.colab.kernel.accessAllowed ? 'block' : 'none';\n",
       "\n",
       "        async function convertToInteractive(key) {\n",
       "          const element = document.querySelector('#df-f8dab1dd-bd39-4a92-b6a4-59af9610aae2');\n",
       "          const dataTable =\n",
       "            await google.colab.kernel.invokeFunction('convertToInteractive',\n",
       "                                                     [key], {});\n",
       "          if (!dataTable) return;\n",
       "\n",
       "          const docLinkHtml = 'Like what you see? Visit the ' +\n",
       "            '<a target=\"_blank\" href=https://colab.research.google.com/notebooks/data_table.ipynb>data table notebook</a>'\n",
       "            + ' to learn more about interactive tables.';\n",
       "          element.innerHTML = '';\n",
       "          dataTable['output_type'] = 'display_data';\n",
       "          await google.colab.output.renderOutput(dataTable, element);\n",
       "          const docLink = document.createElement('div');\n",
       "          docLink.innerHTML = docLinkHtml;\n",
       "          element.appendChild(docLink);\n",
       "        }\n",
       "      </script>\n",
       "    </div>\n",
       "  </div>\n",
       "  "
      ],
      "text/plain": [
       "        Age    Income  Region  Online Shopper\n",
       "0  0.739130  0.685714     0.5             0.0\n",
       "1  0.000000  0.000000     0.0             1.0\n",
       "2  0.130435  0.171429     1.0             0.0\n",
       "3  0.478261  0.371429     0.0             0.0\n",
       "4  0.565217  0.450794     1.0             1.0"
      ]
     },
     "execution_count": 39,
     "metadata": {},
     "output_type": "execute_result"
    }
   ],
   "source": [
    "import numpy as np\n",
    "\n",
    "def normalize_feature(feature):\n",
    "    return (feature - np.min(feature)) / (np.max(feature) - np.min(feature))\n",
    "\n",
    "age_normalized = normalize_feature(transformed_data['Age'])\n",
    "income_normalized = normalize_feature(transformed_data['Income'])\n",
    "region_normalized = normalize_feature(transformed_data['Region'])\n",
    "shopper_normalized = normalize_feature(transformed_data['Online Shopper'])\n",
    "\n",
    "transformed_data.drop(['Age', 'Income', 'Region', 'Online Shopper'], axis=1, inplace=True)\n",
    "\n",
    "transformed_data['Age'] = age_normalized\n",
    "transformed_data['Income'] = income_normalized\n",
    "transformed_data['Region'] = region_normalized\n",
    "transformed_data['Online Shopper'] = shopper_normalized\n",
    "\n",
    "transformed_data.head()"
   ]
  },
  {
   "cell_type": "code",
   "execution_count": null,
   "metadata": {
    "id": "L9AoIkcsgWbg"
   },
   "outputs": [],
   "source": [
    "text = '''The history of NLP generally started in the 1950s, although work can be found from earlier periods. In 1950, Alan Turing published an article titled \"Computing Machinery and Intelligence\" which proposed what is now called the Turing test as a criterion of intelligence.\n",
    "\n",
    "The Georgetown experiment in 1954 involved fully automatic translation of more than sixty Russian sentences into English. The authors claimed that within three or five years, machine translation would be a solved problem.[2] However, real progress was much slower, and after the ALPAC report in 1966, which found that ten-year-long research had failed to fulfill the expectations, funding for machine translation was dramatically reduced. Little further research in machine translation was conducted until the late 1980s, when the first statistical machine translation systems were developed.\n",
    "\n",
    "Some notably successful NLP systems developed in the 1960s were SHRDLU, a natural-language system working in restricted \"blocks worlds\" with restricted vocabularies, and ELIZA, a simulation of a Rogerian psychotherapist, written by Joseph Weizenbaum between 1964 and 1966. Using almost no information about human thought or emotion, ELIZA sometimes provided a startlingly human-like interaction. When the \"patient\" exceeded the very small knowledge base, ELIZA might provide a generic response, for example, responding to \"My head hurts\" with \"Why do you say your head hurts?\".'''\n",
    "\n",
    "text = text.lower()"
   ]
  },
  {
   "cell_type": "markdown",
   "metadata": {
    "id": "c1smitH6gr2u"
   },
   "source": [
    "Now we will use regexp tokenizer"
   ]
  },
  {
   "cell_type": "code",
   "execution_count": null,
   "metadata": {
    "colab": {
     "base_uri": "https://localhost:8080/"
    },
    "id": "7Y5dMpTEgxXl",
    "outputId": "c0a00122-a31a-4251-bdf8-893d73895e85"
   },
   "outputs": [
    {
     "name": "stdout",
     "output_type": "stream",
     "text": [
      "['the', 'history', 'of', 'nlp', 'generally', 'started', 'in', 'the', '1950s,', 'although', 'work', 'can', 'be', 'found', 'from', 'earlier', 'periods.', 'in', '1950,', 'alan', 'turing', 'published', 'an', 'article', 'titled', '\"computing', 'machinery', 'and', 'intelligence\"', 'which', 'proposed', 'what', 'is', 'now', 'called', 'the', 'turing', 'test', 'as', 'a', 'criterion', 'of', 'intelligence.', 'the', 'georgetown', 'experiment', 'in', '1954', 'involved', 'fully', 'automatic', 'translation', 'of', 'more', 'than', 'sixty', 'russian', 'sentences', 'into', 'english.', 'the', 'authors', 'claimed', 'that', 'within', 'three', 'or', 'five', 'years,', 'machine', 'translation', 'would', 'be', 'a', 'solved', 'problem.[2]', 'however,', 'real', 'progress', 'was', 'much', 'slower,', 'and', 'after', 'the', 'alpac', 'report', 'in', '1966,', 'which', 'found', 'that', 'ten-year-long', 'research', 'had', 'failed', 'to', 'fulfill', 'the', 'expectations,', 'funding', 'for', 'machine', 'translation', 'was', 'dramatically', 'reduced.', 'little', 'further', 'research', 'in', 'machine', 'translation', 'was', 'conducted', 'until', 'the', 'late', '1980s,', 'when', 'the', 'first', 'statistical', 'machine', 'translation', 'systems', 'were', 'developed.', 'some', 'notably', 'successful', 'nlp', 'systems', 'developed', 'in', 'the', '1960s', 'were', 'shrdlu,', 'a', 'natural-language', 'system', 'working', 'in', 'restricted', '\"blocks', 'worlds\"', 'with', 'restricted', 'vocabularies,', 'and', 'eliza,', 'a', 'simulation', 'of', 'a', 'rogerian', 'psychotherapist,', 'written', 'by', 'joseph', 'weizenbaum', 'between', '1964', 'and', '1966.', 'using', 'almost', 'no', 'information', 'about', 'human', 'thought', 'or', 'emotion,', 'eliza', 'sometimes', 'provided', 'a', 'startlingly', 'human-like', 'interaction.', 'when', 'the', '\"patient\"', 'exceeded', 'the', 'very', 'small', 'knowledge', 'base,', 'eliza', 'might', 'provide', 'a', 'generic', 'response,', 'for', 'example,', 'responding', 'to', '\"my', 'head', 'hurts\"', 'with', '\"why', 'do', 'you', 'say', 'your', 'head', 'hurts?\".']\n"
     ]
    },
    {
     "name": "stderr",
     "output_type": "stream",
     "text": [
      "[nltk_data] Downloading package punkt to /root/nltk_data...\n",
      "[nltk_data]   Package punkt is already up-to-date!\n"
     ]
    }
   ],
   "source": [
    "import nltk\n",
    "nltk.download('punkt')\n",
    "\n",
    "tokens = nltk.tokenize.regexp_tokenize(text, pattern=\"[\\s]+\", gaps=True)\n",
    "\n",
    "print(tokens)"
   ]
  },
  {
   "cell_type": "code",
   "execution_count": null,
   "metadata": {
    "colab": {
     "base_uri": "https://localhost:8080/"
    },
    "id": "3f-m4OcChEFp",
    "outputId": "bc3064a6-985e-47c9-f245-cf4ec8eb5315"
   },
   "outputs": [
    {
     "name": "stdout",
     "output_type": "stream",
     "text": [
      "['history', 'nlp', 'generally', 'started', '1950s,', 'although', 'work', 'found', 'earlier', 'periods.', '1950,', 'alan', 'turing', 'published', 'article', 'titled', '\"computing', 'machinery', 'intelligence\"', 'proposed', 'called', 'turing', 'test', 'criterion', 'intelligence.', 'georgetown', 'experiment', '1954', 'involved', 'fully', 'automatic', 'translation', 'sixty', 'russian', 'sentences', 'english.', 'authors', 'claimed', 'within', 'three', 'five', 'years,', 'machine', 'translation', 'would', 'solved', 'problem.[2]', 'however,', 'real', 'progress', 'much', 'slower,', 'alpac', 'report', '1966,', 'found', 'ten-year-long', 'research', 'failed', 'fulfill', 'expectations,', 'funding', 'machine', 'translation', 'dramatically', 'reduced.', 'little', 'research', 'machine', 'translation', 'conducted', 'late', '1980s,', 'first', 'statistical', 'machine', 'translation', 'systems', 'developed.', 'notably', 'successful', 'nlp', 'systems', 'developed', '1960s', 'shrdlu,', 'natural-language', 'system', 'working', 'restricted', '\"blocks', 'worlds\"', 'restricted', 'vocabularies,', 'eliza,', 'simulation', 'rogerian', 'psychotherapist,', 'written', 'joseph', 'weizenbaum', '1964', '1966.', 'using', 'almost', 'information', 'human', 'thought', 'emotion,', 'eliza', 'sometimes', 'provided', 'startlingly', 'human-like', 'interaction.', '\"patient\"', 'exceeded', 'small', 'knowledge', 'base,', 'eliza', 'might', 'provide', 'generic', 'response,', 'example,', 'responding', '\"my', 'head', 'hurts\"', '\"why', 'say', 'head', 'hurts?\".']\n"
     ]
    },
    {
     "name": "stderr",
     "output_type": "stream",
     "text": [
      "[nltk_data] Downloading package stopwords to /root/nltk_data...\n",
      "[nltk_data]   Package stopwords is already up-to-date!\n"
     ]
    }
   ],
   "source": [
    "#we have to remove stop words\n",
    "\n",
    "import nltk\n",
    "nltk.download('stopwords') # Download the stopwords dataset from nltk\n",
    "from nltk.corpus import stopwords # Import the stopwords dataset\n",
    "\n",
    "stop_words_list = stopwords.words('english') # Store the english stopwords in a list\n",
    "\n",
    "# Initialize an empty list to store the filtered words\n",
    "filtered_words = [] \n",
    "\n",
    "# Iterate over each word in the retknText list\n",
    "for word in tokens: \n",
    "    # Check if the word is not in the stop_words_list\n",
    "    if word.lower() not in stop_words_list: \n",
    "        # If it's not, append it to the filtered_words list\n",
    "        filtered_words.append(word)\n",
    "\n",
    "# Print the filtered words\n",
    "print(filtered_words)"
   ]
  },
  {
   "cell_type": "code",
   "execution_count": null,
   "metadata": {
    "colab": {
     "base_uri": "https://localhost:8080/"
    },
    "id": "BXDBAJ5QiNLQ",
    "outputId": "c4df48b5-da30-4f92-f269-0c26baae228b"
   },
   "outputs": [
    {
     "name": "stdout",
     "output_type": "stream",
     "text": [
      "history nlp generally started 1950s although work found earlier periods 1950 alan turing published article titled computing machinery intelligence proposed called turing test criterion intelligence georgetown experiment 1954 involved fully automatic translation sixty russian sentences english authors claimed within three five years machine translation would solved problem2 however real progress much slower alpac report 1966 found tenyearlong research failed fulfill expectations funding machine translation dramatically reduced little research machine translation conducted late 1980s first statistical machine translation systems developed notably successful nlp systems developed 1960s shrdlu naturallanguage system working restricted blocks worlds restricted vocabularies eliza simulation rogerian psychotherapist written joseph weizenbaum 1964 1966 using almost information human thought emotion eliza sometimes provided startlingly humanlike interaction patient exceeded small knowledge base eliza might provide generic response example responding my head hurts why say head hurts\n"
     ]
    }
   ],
   "source": [
    "#Now we will remove all Punctuations\n",
    "import string\n",
    "\n",
    "NewText=' '.join(filtered_words)\n",
    "NewText = NewText.translate(str.maketrans('','',string.punctuation))\n",
    "print(NewText)"
   ]
  },
  {
   "cell_type": "markdown",
   "metadata": {
    "id": "hJKorPGPjZuO"
   },
   "source": [
    "Here we will start word tokenization"
   ]
  },
  {
   "cell_type": "code",
   "execution_count": null,
   "metadata": {
    "colab": {
     "base_uri": "https://localhost:8080/"
    },
    "id": "Aq166hlljfwY",
    "outputId": "370acced-37d4-4e5c-8ae5-e750fcbc6229"
   },
   "outputs": [
    {
     "name": "stdout",
     "output_type": "stream",
     "text": [
      "['the', 'history', 'of', 'nlp', 'generally', 'started', 'in', 'the', '1950s', ',', 'although', 'work', 'can', 'be', 'found', 'from', 'earlier', 'periods', '.', 'in', '1950', ',', 'alan', 'turing', 'published', 'an', 'article', 'titled', '``', 'computing', 'machinery', 'and', 'intelligence', \"''\", 'which', 'proposed', 'what', 'is', 'now', 'called', 'the', 'turing', 'test', 'as', 'a', 'criterion', 'of', 'intelligence', '.', 'the', 'georgetown', 'experiment', 'in', '1954', 'involved', 'fully', 'automatic', 'translation', 'of', 'more', 'than', 'sixty', 'russian', 'sentences', 'into', 'english', '.', 'the', 'authors', 'claimed', 'that', 'within', 'three', 'or', 'five', 'years', ',', 'machine', 'translation', 'would', 'be', 'a', 'solved', 'problem', '.', '[', '2', ']', 'however', ',', 'real', 'progress', 'was', 'much', 'slower', ',', 'and', 'after', 'the', 'alpac', 'report', 'in', '1966', ',', 'which', 'found', 'that', 'ten-year-long', 'research', 'had', 'failed', 'to', 'fulfill', 'the', 'expectations', ',', 'funding', 'for', 'machine', 'translation', 'was', 'dramatically', 'reduced', '.', 'little', 'further', 'research', 'in', 'machine', 'translation', 'was', 'conducted', 'until', 'the', 'late', '1980s', ',', 'when', 'the', 'first', 'statistical', 'machine', 'translation', 'systems', 'were', 'developed', '.', 'some', 'notably', 'successful', 'nlp', 'systems', 'developed', 'in', 'the', '1960s', 'were', 'shrdlu', ',', 'a', 'natural-language', 'system', 'working', 'in', 'restricted', '``', 'blocks', 'worlds', \"''\", 'with', 'restricted', 'vocabularies', ',', 'and', 'eliza', ',', 'a', 'simulation', 'of', 'a', 'rogerian', 'psychotherapist', ',', 'written', 'by', 'joseph', 'weizenbaum', 'between', '1964', 'and', '1966.', 'using', 'almost', 'no', 'information', 'about', 'human', 'thought', 'or', 'emotion', ',', 'eliza', 'sometimes', 'provided', 'a', 'startlingly', 'human-like', 'interaction', '.', 'when', 'the', '``', 'patient', \"''\", 'exceeded', 'the', 'very', 'small', 'knowledge', 'base', ',', 'eliza', 'might', 'provide', 'a', 'generic', 'response', ',', 'for', 'example', ',', 'responding', 'to', '``', 'my', 'head', 'hurts', \"''\", 'with', '``', 'why', 'do', 'you', 'say', 'your', 'head', 'hurts', '?', '``', '.']\n"
     ]
    },
    {
     "name": "stderr",
     "output_type": "stream",
     "text": [
      "[nltk_data] Downloading package punkt to /root/nltk_data...\n",
      "[nltk_data]   Package punkt is already up-to-date!\n"
     ]
    }
   ],
   "source": [
    "import nltk\n",
    "nltk.download('punkt')\n",
    "\n",
    "WordToken=nltk.word_tokenize(text)\n",
    "\n",
    "print(WordToken)"
   ]
  },
  {
   "cell_type": "code",
   "execution_count": null,
   "metadata": {
    "colab": {
     "base_uri": "https://localhost:8080/"
    },
    "id": "Ex2K2lpEkU7f",
    "outputId": "1d76e879-b6f7-43a3-ba74-5c3a65ae9374"
   },
   "outputs": [
    {
     "name": "stdout",
     "output_type": "stream",
     "text": [
      "['history', 'nlp', 'generally', 'started', '1950s', ',', 'although', 'work', 'found', 'earlier', 'periods', '.', '1950', ',', 'alan', 'turing', 'published', 'article', 'titled', '``', 'computing', 'machinery', 'intelligence', \"''\", 'proposed', 'called', 'turing', 'test', 'criterion', 'intelligence', '.', 'georgetown', 'experiment', '1954', 'involved', 'fully', 'automatic', 'translation', 'sixty', 'russian', 'sentences', 'english', '.', 'authors', 'claimed', 'within', 'three', 'five', 'years', ',', 'machine', 'translation', 'would', 'solved', 'problem', '.', '[', '2', ']', 'however', ',', 'real', 'progress', 'much', 'slower', ',', 'alpac', 'report', '1966', ',', 'found', 'ten-year-long', 'research', 'failed', 'fulfill', 'expectations', ',', 'funding', 'machine', 'translation', 'dramatically', 'reduced', '.', 'little', 'research', 'machine', 'translation', 'conducted', 'late', '1980s', ',', 'first', 'statistical', 'machine', 'translation', 'systems', 'developed', '.', 'notably', 'successful', 'nlp', 'systems', 'developed', '1960s', 'shrdlu', ',', 'natural-language', 'system', 'working', 'restricted', '``', 'blocks', 'worlds', \"''\", 'restricted', 'vocabularies', ',', 'eliza', ',', 'simulation', 'rogerian', 'psychotherapist', ',', 'written', 'joseph', 'weizenbaum', '1964', '1966.', 'using', 'almost', 'information', 'human', 'thought', 'emotion', ',', 'eliza', 'sometimes', 'provided', 'startlingly', 'human-like', 'interaction', '.', '``', 'patient', \"''\", 'exceeded', 'small', 'knowledge', 'base', ',', 'eliza', 'might', 'provide', 'generic', 'response', ',', 'example', ',', 'responding', '``', 'head', 'hurts', \"''\", '``', 'say', 'head', 'hurts', '?', '``', '.']\n"
     ]
    },
    {
     "name": "stderr",
     "output_type": "stream",
     "text": [
      "[nltk_data] Downloading package stopwords to /root/nltk_data...\n",
      "[nltk_data]   Package stopwords is already up-to-date!\n"
     ]
    }
   ],
   "source": [
    "import nltk\n",
    "nltk.download(\"stopwords\") # Download the corpus of stopwords from nltk\n",
    "from nltk.corpus import stopwords # Import the stopwords corpus from nltk\n",
    "\n",
    "stop_word_list = stopwords.words(\"english\") # Store the English stopwords\n",
    "\n",
    "filtered_words = [] # Initialize an empty list to store the filtered words\n",
    "\n",
    "for word in WordToken:\n",
    "    if word.lower() not in stop_word_list:\n",
    "        filtered_words.append(word)\n",
    "\n",
    "print(filtered_words)"
   ]
  },
  {
   "cell_type": "code",
   "execution_count": null,
   "metadata": {
    "colab": {
     "base_uri": "https://localhost:8080/"
    },
    "id": "65tcPZBWlYQF",
    "outputId": "8f5a7653-7fbc-4722-9542-3ae472d5f04c"
   },
   "outputs": [
    {
     "name": "stdout",
     "output_type": "stream",
     "text": [
      "history nlp generally started 1950s  although work found earlier periods  1950  alan turing published article titled  computing machinery intelligence  proposed called turing test criterion intelligence  georgetown experiment 1954 involved fully automatic translation sixty russian sentences english  authors claimed within three five years  machine translation would solved problem   2  however  real progress much slower  alpac report 1966  found tenyearlong research failed fulfill expectations  funding machine translation dramatically reduced  little research machine translation conducted late 1980s  first statistical machine translation systems developed  notably successful nlp systems developed 1960s shrdlu  naturallanguage system working restricted  blocks worlds  restricted vocabularies  eliza  simulation rogerian psychotherapist  written joseph weizenbaum 1964 1966 using almost information human thought emotion  eliza sometimes provided startlingly humanlike interaction   patient  exceeded small knowledge base  eliza might provide generic response  example  responding  head hurts   say head hurts   \n"
     ]
    }
   ],
   "source": [
    "import string\n",
    "\n",
    "Finaltext=' '.join(filtered_words)\n",
    "Finaltext = Finaltext.translate(str.maketrans('','',string.punctuation))\n",
    "print(Finaltext)"
   ]
  },
  {
   "cell_type": "code",
   "execution_count": null,
   "metadata": {
    "colab": {
     "base_uri": "https://localhost:8080/"
    },
    "id": "ZFR82Zailkca",
    "outputId": "a13fa40b-e787-4660-b424-942aee488212"
   },
   "outputs": [
    {
     "name": "stdout",
     "output_type": "stream",
     "text": [
      "['1950', '1950', '1954', '1966', '1980', '1960', '1964', '1966']\n"
     ]
    }
   ],
   "source": [
    "#Find all years\n",
    "\n",
    "import re\n",
    "\n",
    "Find_years = re.findall('(\\d{4})', text)\n",
    "print(Find_years)"
   ]
  },
  {
   "cell_type": "code",
   "execution_count": null,
   "metadata": {
    "id": "ng33BK3Mnc9y"
   },
   "outputs": [],
   "source": []
  },
  {
   "cell_type": "markdown",
   "metadata": {
    "id": "QU8vfcxzmK90"
   },
   "source": [
    "Diffrence between Regexp and word tokenization\n",
    "\n",
    "1. The number of tokens in the list generated by the word tokenizer is larger compared to the list generated by the regex tokenizer.\n",
    "\n",
    "2. The regex tokenizer has the capability to eliminate multiple punctuation symbols, such as \",\" and \"',\" whereas the word tokenizer does not eliminate any of these punctuations. As a result, tokens like \"1950\" and \",\" can be seen in the token list produced by the word tokenizer.\n",
    "\n",
    "3. The choice between these two methods can be made based on the specific requirements of the use case."
   ]
  },
  {
   "cell_type": "code",
   "execution_count": null,
   "metadata": {
    "colab": {
     "base_uri": "https://localhost:8080/",
     "height": 421
    },
    "id": "rPK-LiIAnemI",
    "outputId": "388282b3-02b9-4ea2-f4f5-0ff4ba341e9d"
   },
   "outputs": [
    {
     "data": {
      "text/html": [
       "\n",
       "  <div id=\"df-4a3d448e-68b0-4a5b-9b6e-ca4a62e81768\">\n",
       "    <div class=\"colab-df-container\">\n",
       "      <div>\n",
       "<style scoped>\n",
       "    .dataframe tbody tr th:only-of-type {\n",
       "        vertical-align: middle;\n",
       "    }\n",
       "\n",
       "    .dataframe tbody tr th {\n",
       "        vertical-align: top;\n",
       "    }\n",
       "\n",
       "    .dataframe thead th {\n",
       "        text-align: right;\n",
       "    }\n",
       "</style>\n",
       "<table border=\"1\" class=\"dataframe\">\n",
       "  <thead>\n",
       "    <tr style=\"text-align: right;\">\n",
       "      <th></th>\n",
       "      <th>Suburb</th>\n",
       "      <th>Address</th>\n",
       "      <th>Rooms</th>\n",
       "      <th>Type</th>\n",
       "      <th>Price</th>\n",
       "      <th>Method</th>\n",
       "      <th>SellerG</th>\n",
       "      <th>Date</th>\n",
       "      <th>Distance</th>\n",
       "      <th>Postcode</th>\n",
       "      <th>...</th>\n",
       "      <th>Bathroom</th>\n",
       "      <th>Car</th>\n",
       "      <th>Landsize</th>\n",
       "      <th>BuildingArea</th>\n",
       "      <th>YearBuilt</th>\n",
       "      <th>CouncilArea</th>\n",
       "      <th>Lattitude</th>\n",
       "      <th>Longtitude</th>\n",
       "      <th>Regionname</th>\n",
       "      <th>Propertycount</th>\n",
       "    </tr>\n",
       "  </thead>\n",
       "  <tbody>\n",
       "    <tr>\n",
       "      <th>0</th>\n",
       "      <td>Abbotsford</td>\n",
       "      <td>85 Turner St</td>\n",
       "      <td>2</td>\n",
       "      <td>h</td>\n",
       "      <td>1480000.0</td>\n",
       "      <td>S</td>\n",
       "      <td>Biggin</td>\n",
       "      <td>3/12/2016</td>\n",
       "      <td>2.5</td>\n",
       "      <td>3067.0</td>\n",
       "      <td>...</td>\n",
       "      <td>1.0</td>\n",
       "      <td>1.0</td>\n",
       "      <td>202.0</td>\n",
       "      <td>NaN</td>\n",
       "      <td>NaN</td>\n",
       "      <td>Yarra</td>\n",
       "      <td>-37.7996</td>\n",
       "      <td>144.9984</td>\n",
       "      <td>Northern Metropolitan</td>\n",
       "      <td>4019.0</td>\n",
       "    </tr>\n",
       "    <tr>\n",
       "      <th>1</th>\n",
       "      <td>Abbotsford</td>\n",
       "      <td>25 Bloomburg St</td>\n",
       "      <td>2</td>\n",
       "      <td>h</td>\n",
       "      <td>1035000.0</td>\n",
       "      <td>S</td>\n",
       "      <td>Biggin</td>\n",
       "      <td>4/02/2016</td>\n",
       "      <td>2.5</td>\n",
       "      <td>3067.0</td>\n",
       "      <td>...</td>\n",
       "      <td>1.0</td>\n",
       "      <td>0.0</td>\n",
       "      <td>156.0</td>\n",
       "      <td>79.0</td>\n",
       "      <td>1900.0</td>\n",
       "      <td>Yarra</td>\n",
       "      <td>-37.8079</td>\n",
       "      <td>144.9934</td>\n",
       "      <td>Northern Metropolitan</td>\n",
       "      <td>4019.0</td>\n",
       "    </tr>\n",
       "    <tr>\n",
       "      <th>2</th>\n",
       "      <td>Abbotsford</td>\n",
       "      <td>5 Charles St</td>\n",
       "      <td>3</td>\n",
       "      <td>h</td>\n",
       "      <td>1465000.0</td>\n",
       "      <td>SP</td>\n",
       "      <td>Biggin</td>\n",
       "      <td>4/03/2017</td>\n",
       "      <td>2.5</td>\n",
       "      <td>3067.0</td>\n",
       "      <td>...</td>\n",
       "      <td>2.0</td>\n",
       "      <td>0.0</td>\n",
       "      <td>134.0</td>\n",
       "      <td>150.0</td>\n",
       "      <td>1900.0</td>\n",
       "      <td>Yarra</td>\n",
       "      <td>-37.8093</td>\n",
       "      <td>144.9944</td>\n",
       "      <td>Northern Metropolitan</td>\n",
       "      <td>4019.0</td>\n",
       "    </tr>\n",
       "    <tr>\n",
       "      <th>3</th>\n",
       "      <td>Abbotsford</td>\n",
       "      <td>40 Federation La</td>\n",
       "      <td>3</td>\n",
       "      <td>h</td>\n",
       "      <td>850000.0</td>\n",
       "      <td>PI</td>\n",
       "      <td>Biggin</td>\n",
       "      <td>4/03/2017</td>\n",
       "      <td>2.5</td>\n",
       "      <td>3067.0</td>\n",
       "      <td>...</td>\n",
       "      <td>2.0</td>\n",
       "      <td>1.0</td>\n",
       "      <td>94.0</td>\n",
       "      <td>NaN</td>\n",
       "      <td>NaN</td>\n",
       "      <td>Yarra</td>\n",
       "      <td>-37.7969</td>\n",
       "      <td>144.9969</td>\n",
       "      <td>Northern Metropolitan</td>\n",
       "      <td>4019.0</td>\n",
       "    </tr>\n",
       "    <tr>\n",
       "      <th>4</th>\n",
       "      <td>Abbotsford</td>\n",
       "      <td>55a Park St</td>\n",
       "      <td>4</td>\n",
       "      <td>h</td>\n",
       "      <td>1600000.0</td>\n",
       "      <td>VB</td>\n",
       "      <td>Nelson</td>\n",
       "      <td>4/06/2016</td>\n",
       "      <td>2.5</td>\n",
       "      <td>3067.0</td>\n",
       "      <td>...</td>\n",
       "      <td>1.0</td>\n",
       "      <td>2.0</td>\n",
       "      <td>120.0</td>\n",
       "      <td>142.0</td>\n",
       "      <td>2014.0</td>\n",
       "      <td>Yarra</td>\n",
       "      <td>-37.8072</td>\n",
       "      <td>144.9941</td>\n",
       "      <td>Northern Metropolitan</td>\n",
       "      <td>4019.0</td>\n",
       "    </tr>\n",
       "  </tbody>\n",
       "</table>\n",
       "<p>5 rows × 21 columns</p>\n",
       "</div>\n",
       "      <button class=\"colab-df-convert\" onclick=\"convertToInteractive('df-4a3d448e-68b0-4a5b-9b6e-ca4a62e81768')\"\n",
       "              title=\"Convert this dataframe to an interactive table.\"\n",
       "              style=\"display:none;\">\n",
       "        \n",
       "  <svg xmlns=\"http://www.w3.org/2000/svg\" height=\"24px\"viewBox=\"0 0 24 24\"\n",
       "       width=\"24px\">\n",
       "    <path d=\"M0 0h24v24H0V0z\" fill=\"none\"/>\n",
       "    <path d=\"M18.56 5.44l.94 2.06.94-2.06 2.06-.94-2.06-.94-.94-2.06-.94 2.06-2.06.94zm-11 1L8.5 8.5l.94-2.06 2.06-.94-2.06-.94L8.5 2.5l-.94 2.06-2.06.94zm10 10l.94 2.06.94-2.06 2.06-.94-2.06-.94-.94-2.06-.94 2.06-2.06.94z\"/><path d=\"M17.41 7.96l-1.37-1.37c-.4-.4-.92-.59-1.43-.59-.52 0-1.04.2-1.43.59L10.3 9.45l-7.72 7.72c-.78.78-.78 2.05 0 2.83L4 21.41c.39.39.9.59 1.41.59.51 0 1.02-.2 1.41-.59l7.78-7.78 2.81-2.81c.8-.78.8-2.07 0-2.86zM5.41 20L4 18.59l7.72-7.72 1.47 1.35L5.41 20z\"/>\n",
       "  </svg>\n",
       "      </button>\n",
       "      \n",
       "  <style>\n",
       "    .colab-df-container {\n",
       "      display:flex;\n",
       "      flex-wrap:wrap;\n",
       "      gap: 12px;\n",
       "    }\n",
       "\n",
       "    .colab-df-convert {\n",
       "      background-color: #E8F0FE;\n",
       "      border: none;\n",
       "      border-radius: 50%;\n",
       "      cursor: pointer;\n",
       "      display: none;\n",
       "      fill: #1967D2;\n",
       "      height: 32px;\n",
       "      padding: 0 0 0 0;\n",
       "      width: 32px;\n",
       "    }\n",
       "\n",
       "    .colab-df-convert:hover {\n",
       "      background-color: #E2EBFA;\n",
       "      box-shadow: 0px 1px 2px rgba(60, 64, 67, 0.3), 0px 1px 3px 1px rgba(60, 64, 67, 0.15);\n",
       "      fill: #174EA6;\n",
       "    }\n",
       "\n",
       "    [theme=dark] .colab-df-convert {\n",
       "      background-color: #3B4455;\n",
       "      fill: #D2E3FC;\n",
       "    }\n",
       "\n",
       "    [theme=dark] .colab-df-convert:hover {\n",
       "      background-color: #434B5C;\n",
       "      box-shadow: 0px 1px 3px 1px rgba(0, 0, 0, 0.15);\n",
       "      filter: drop-shadow(0px 1px 2px rgba(0, 0, 0, 0.3));\n",
       "      fill: #FFFFFF;\n",
       "    }\n",
       "  </style>\n",
       "\n",
       "      <script>\n",
       "        const buttonEl =\n",
       "          document.querySelector('#df-4a3d448e-68b0-4a5b-9b6e-ca4a62e81768 button.colab-df-convert');\n",
       "        buttonEl.style.display =\n",
       "          google.colab.kernel.accessAllowed ? 'block' : 'none';\n",
       "\n",
       "        async function convertToInteractive(key) {\n",
       "          const element = document.querySelector('#df-4a3d448e-68b0-4a5b-9b6e-ca4a62e81768');\n",
       "          const dataTable =\n",
       "            await google.colab.kernel.invokeFunction('convertToInteractive',\n",
       "                                                     [key], {});\n",
       "          if (!dataTable) return;\n",
       "\n",
       "          const docLinkHtml = 'Like what you see? Visit the ' +\n",
       "            '<a target=\"_blank\" href=https://colab.research.google.com/notebooks/data_table.ipynb>data table notebook</a>'\n",
       "            + ' to learn more about interactive tables.';\n",
       "          element.innerHTML = '';\n",
       "          dataTable['output_type'] = 'display_data';\n",
       "          await google.colab.output.renderOutput(dataTable, element);\n",
       "          const docLink = document.createElement('div');\n",
       "          docLink.innerHTML = docLinkHtml;\n",
       "          element.appendChild(docLink);\n",
       "        }\n",
       "      </script>\n",
       "    </div>\n",
       "  </div>\n",
       "  "
      ],
      "text/plain": [
       "       Suburb           Address  Rooms Type      Price Method SellerG  \\\n",
       "0  Abbotsford      85 Turner St      2    h  1480000.0      S  Biggin   \n",
       "1  Abbotsford   25 Bloomburg St      2    h  1035000.0      S  Biggin   \n",
       "2  Abbotsford      5 Charles St      3    h  1465000.0     SP  Biggin   \n",
       "3  Abbotsford  40 Federation La      3    h   850000.0     PI  Biggin   \n",
       "4  Abbotsford       55a Park St      4    h  1600000.0     VB  Nelson   \n",
       "\n",
       "        Date  Distance  Postcode  ...  Bathroom  Car  Landsize  BuildingArea  \\\n",
       "0  3/12/2016       2.5    3067.0  ...       1.0  1.0     202.0           NaN   \n",
       "1  4/02/2016       2.5    3067.0  ...       1.0  0.0     156.0          79.0   \n",
       "2  4/03/2017       2.5    3067.0  ...       2.0  0.0     134.0         150.0   \n",
       "3  4/03/2017       2.5    3067.0  ...       2.0  1.0      94.0           NaN   \n",
       "4  4/06/2016       2.5    3067.0  ...       1.0  2.0     120.0         142.0   \n",
       "\n",
       "   YearBuilt  CouncilArea Lattitude  Longtitude             Regionname  \\\n",
       "0        NaN        Yarra  -37.7996    144.9984  Northern Metropolitan   \n",
       "1     1900.0        Yarra  -37.8079    144.9934  Northern Metropolitan   \n",
       "2     1900.0        Yarra  -37.8093    144.9944  Northern Metropolitan   \n",
       "3        NaN        Yarra  -37.7969    144.9969  Northern Metropolitan   \n",
       "4     2014.0        Yarra  -37.8072    144.9941  Northern Metropolitan   \n",
       "\n",
       "  Propertycount  \n",
       "0        4019.0  \n",
       "1        4019.0  \n",
       "2        4019.0  \n",
       "3        4019.0  \n",
       "4        4019.0  \n",
       "\n",
       "[5 rows x 21 columns]"
      ]
     },
     "execution_count": 50,
     "metadata": {},
     "output_type": "execute_result"
    }
   ],
   "source": [
    "#Q3\n",
    "\n",
    "\n",
    "Data = pd.read_csv('melb_data.csv')\n",
    "Data.head()"
   ]
  },
  {
   "cell_type": "code",
   "execution_count": null,
   "metadata": {
    "colab": {
     "base_uri": "https://localhost:8080/"
    },
    "id": "jz4nMnDknrAZ",
    "outputId": "e1c5489e-0085-4562-d897-a0cbb9c9222b"
   },
   "outputs": [
    {
     "data": {
      "text/plain": [
       "Suburb              0\n",
       "Address             0\n",
       "Rooms               0\n",
       "Type                0\n",
       "Price               0\n",
       "Method              0\n",
       "SellerG             0\n",
       "Date                0\n",
       "Distance            0\n",
       "Postcode            0\n",
       "Bedroom2            0\n",
       "Bathroom            0\n",
       "Car                62\n",
       "Landsize            0\n",
       "BuildingArea     6450\n",
       "YearBuilt        5375\n",
       "CouncilArea      1369\n",
       "Lattitude           0\n",
       "Longtitude          0\n",
       "Regionname          0\n",
       "Propertycount       0\n",
       "dtype: int64"
      ]
     },
     "execution_count": 51,
     "metadata": {},
     "output_type": "execute_result"
    }
   ],
   "source": [
    "Data.isnull().sum()"
   ]
  },
  {
   "cell_type": "code",
   "execution_count": null,
   "metadata": {
    "colab": {
     "base_uri": "https://localhost:8080/"
    },
    "id": "3bRYVEJonxGs",
    "outputId": "7c553254-5e56-485e-8d21-4872604474d6"
   },
   "outputs": [
    {
     "name": "stdout",
     "output_type": "stream",
     "text": [
      "152.0\n",
      "1965\n"
     ]
    }
   ],
   "source": [
    "print(round(Data['BuildingArea'].mean(),1))\n",
    "print(round(Data['YearBuilt'].mean()))"
   ]
  },
  {
   "cell_type": "code",
   "execution_count": null,
   "metadata": {
    "colab": {
     "base_uri": "https://localhost:8080/"
    },
    "id": "xHwsvJtXn3AV",
    "outputId": "b7e0ab18-7d84-4947-ce17-d1ce53cc86e7"
   },
   "outputs": [
    {
     "name": "stdout",
     "output_type": "stream",
     "text": [
      "['Yarra' 'Moonee Valley' 'Port Phillip' 'Darebin' 'Hobsons Bay'\n",
      " 'Stonnington' 'Boroondara' 'Monash' 'Glen Eira' 'Whitehorse'\n",
      " 'Maribyrnong' 'Bayside' 'Moreland' 'Manningham' 'Banyule' 'Melbourne'\n",
      " 'Kingston' 'Brimbank' 'Hume' nan 'Knox' 'Maroondah' 'Casey' 'Melton'\n",
      " 'Greater Dandenong' 'Nillumbik' 'Whittlesea' 'Frankston' 'Macedon Ranges'\n",
      " 'Yarra Ranges' 'Wyndham' 'Cardinia' 'Unavailable' 'Moorabool']\n",
      "0    Moreland\n",
      "dtype: object\n"
     ]
    }
   ],
   "source": [
    "Data['BuildingArea']=Data['BuildingArea'].replace(np.nan, round(Data['BuildingArea'].mean(),1))\n",
    "Data['YearBuilt']=Data['YearBuilt'].replace(np.nan, round(Data['YearBuilt'].mean()))\n",
    "\n",
    "print(Data['CouncilArea'].unique())\n",
    "print(Data['CouncilArea'].mode())"
   ]
  },
  {
   "cell_type": "markdown",
   "metadata": {
    "id": "Sd7sqYcIosgq"
   },
   "source": [
    "Given that all values in the \"Council Area\" column are unique and occur only once, and that this column represents just 10% of the total data, it is feasible to eliminate all missing values in the remaining data."
   ]
  },
  {
   "cell_type": "code",
   "execution_count": null,
   "metadata": {
    "colab": {
     "base_uri": "https://localhost:8080/"
    },
    "id": "dt8XuVuzotPN",
    "outputId": "5c7bfedb-990b-47e2-a539-c7798eccd07c"
   },
   "outputs": [
    {
     "name": "stdout",
     "output_type": "stream",
     "text": [
      "Before eliminating entries. (13580, 21)\n",
      "After eliminating entries. (12211, 21)\n"
     ]
    }
   ],
   "source": [
    "print('Before eliminating entries.', Data.shape)\n",
    "Data.dropna(axis=0, inplace=True)\n",
    "print('After eliminating entries.', Data.shape)"
   ]
  },
  {
   "cell_type": "code",
   "execution_count": null,
   "metadata": {
    "colab": {
     "base_uri": "https://localhost:8080/"
    },
    "id": "LHIyQ1EPpBUf",
    "outputId": "1268fc50-a48d-4a4e-de9b-319ecb87ae60"
   },
   "outputs": [
    {
     "data": {
      "text/plain": [
       "Suburb           0\n",
       "Address          0\n",
       "Rooms            0\n",
       "Type             0\n",
       "Price            0\n",
       "Method           0\n",
       "SellerG          0\n",
       "Date             0\n",
       "Distance         0\n",
       "Postcode         0\n",
       "Bedroom2         0\n",
       "Bathroom         0\n",
       "Car              0\n",
       "Landsize         0\n",
       "BuildingArea     0\n",
       "YearBuilt        0\n",
       "CouncilArea      0\n",
       "Lattitude        0\n",
       "Longtitude       0\n",
       "Regionname       0\n",
       "Propertycount    0\n",
       "dtype: int64"
      ]
     },
     "execution_count": 55,
     "metadata": {},
     "output_type": "execute_result"
    }
   ],
   "source": [
    "Data.isnull().sum()"
   ]
  },
  {
   "cell_type": "code",
   "execution_count": null,
   "metadata": {
    "colab": {
     "base_uri": "https://localhost:8080/"
    },
    "id": "ciAaMTNCpzPJ",
    "outputId": "7baf73bf-b164-438c-ba78-1bce0305bd73"
   },
   "outputs": [
    {
     "name": "stdout",
     "output_type": "stream",
     "text": [
      "The shape of the DataFrame after encoding and removing certain columns:  (12211, 11)\n"
     ]
    }
   ],
   "source": [
    "# Importing necessary libraries\n",
    "import numpy as np\n",
    "import pandas as pd\n",
    "\n",
    "# Removing certain columns from the melbData DataFrame\n",
    "columns_to_drop = ['Date', 'Suburb', 'Address', 'Method', 'SellerG', 'CouncilArea',\n",
    "'Regionname', 'Lattitude', 'Longtitude', 'Bedroom2']\n",
    "Data.drop(columns_to_drop, axis=1, inplace=True)\n",
    "\n",
    "# Encoding categorical variable 'Type'\n",
    "from sklearn.preprocessing import LabelEncoder\n",
    "le = LabelEncoder()\n",
    "encoded_labels = le.fit_transform(Data['Type'])\n",
    "\n",
    "# Removing the original Type column and adding the encoded labels\n",
    "Data.drop('Type', axis=1, inplace=True)\n",
    "Data['Type'] = encoded_labels\n",
    "\n",
    "# Checking the shape of the modified DataFrame\n",
    "print(\"The shape of the DataFrame after encoding and removing certain columns: \", Data.shape)\n"
   ]
  },
  {
   "cell_type": "code",
   "execution_count": null,
   "metadata": {
    "colab": {
     "base_uri": "https://localhost:8080/"
    },
    "id": "dn4lOJI2p738",
    "outputId": "5eec24ae-bb18-4000-e2b8-cc2326f95075"
   },
   "outputs": [
    {
     "name": "stdout",
     "output_type": "stream",
     "text": [
      "                  Rooms     Price  Distance  Postcode  Bathroom       Car  \\\n",
      "Rooms          1.000000  0.510522  0.291880  0.041216  0.590537  0.410980   \n",
      "Price          0.510522  1.000000 -0.146137  0.118202  0.473933  0.248628   \n",
      "Distance       0.291880 -0.146137  1.000000  0.407168  0.124433  0.269406   \n",
      "Postcode       0.041216  0.118202  0.407168  1.000000  0.108269  0.045136   \n",
      "Bathroom       0.590537  0.473933  0.124433  0.108269  1.000000  0.329498   \n",
      "Car            0.410980  0.248628  0.269406  0.045136  0.329498  1.000000   \n",
      "Landsize       0.022871  0.038536  0.016920  0.021272  0.035098  0.023335   \n",
      "BuildingArea   0.305009  0.279231  0.084322  0.039707  0.273182  0.162083   \n",
      "YearBuilt     -0.068144 -0.261342  0.181122  0.019638  0.114564  0.074937   \n",
      "Propertycount -0.090703 -0.037167 -0.078204  0.069350 -0.051937 -0.029895   \n",
      "Type          -0.558139 -0.430345 -0.228071  0.044191 -0.234389 -0.267733   \n",
      "\n",
      "               Landsize  BuildingArea  YearBuilt  Propertycount      Type  \n",
      "Rooms          0.022871      0.305009  -0.068144      -0.090703 -0.558139  \n",
      "Price          0.038536      0.279231  -0.261342      -0.037167 -0.430345  \n",
      "Distance       0.016920      0.084322   0.181122      -0.078204 -0.228071  \n",
      "Postcode       0.021272      0.039707   0.019638       0.069350  0.044191  \n",
      "Bathroom       0.035098      0.273182   0.114564      -0.051937 -0.234389  \n",
      "Car            0.023335      0.162083   0.074937      -0.029895 -0.267733  \n",
      "Landsize       1.000000      0.011843   0.006746      -0.005522 -0.017121  \n",
      "BuildingArea   0.011843      1.000000   0.004996      -0.035161 -0.200545  \n",
      "YearBuilt      0.006746      0.004996   1.000000       0.001176  0.282292  \n",
      "Propertycount -0.005522     -0.035161   0.001176       1.000000  0.091038  \n",
      "Type          -0.017121     -0.200545   0.282292       0.091038  1.000000  \n"
     ]
    }
   ],
   "source": [
    "#Coorelation\n",
    "\n",
    "print(Data.corr())"
   ]
  },
  {
   "cell_type": "code",
   "execution_count": null,
   "metadata": {
    "colab": {
     "base_uri": "https://localhost:8080/",
     "height": 396
    },
    "id": "PmB_WsDKqJIY",
    "outputId": "197f05ae-2cf0-4c19-d7ea-fd2b1c6549af"
   },
   "outputs": [
    {
     "data": {
      "image/png": "[encoded data removed]",
      "text/plain": [
       "<Figure size 1152x432 with 2 Axes>"
      ]
     },
     "metadata": {
      "needs_background": "light"
     },
     "output_type": "display_data"
    }
   ],
   "source": [
    "import seaborn as sns\n",
    "\n",
    "plt.figure(figsize=(16, 6))\n",
    "Heatmap_display = sns.heatmap(Data.corr(), vmin=-1, vmax=1, annot=True)\n",
    "Heatmap_display.set_title('Melbourne Data', fontdict={'fontsize':12}, pad=12);"
   ]
  },
  {
   "cell_type": "markdown",
   "metadata": {
    "id": "aE6wq_pUrNqq"
   },
   "source": [
    "Chi Squre test\n"
   ]
  },
  {
   "cell_type": "code",
   "execution_count": null,
   "metadata": {
    "colab": {
     "base_uri": "https://localhost:8080/"
    },
    "id": "E6FsdIqVrP5U",
    "outputId": "4e004e95-0c92-41b2-d491-7d3c5b54bd43"
   },
   "outputs": [
    {
     "data": {
      "text/plain": [
       "(array([1.77858408e+03, 7.68334218e+03, 5.66404211e+03, 1.43683547e+03,\n",
       "        1.67124900e+03, 4.28213558e+07, 1.86732479e+05, 1.36044929e+03,\n",
       "        5.27025604e+06, 6.97133470e+03]),\n",
       " array([0.99999993, 0.        , 0.        , 1.        , 1.        ,\n",
       "        0.        , 0.        , 1.        , 0.        , 0.        ]))"
      ]
     },
     "execution_count": 60,
     "metadata": {},
     "output_type": "execute_result"
    }
   ],
   "source": [
    "from sklearn.feature_selection import chi2\n",
    "Ft = Data.drop('Price', axis=1)\n",
    "Lb = Data['Price']\n",
    "CS_count = chi2(Ft,Lb)\n",
    "CS_count"
   ]
  },
  {
   "cell_type": "code",
   "execution_count": null,
   "metadata": {
    "id": "rookf2zTrjIi"
   },
   "outputs": [],
   "source": [
    "PValue = pd.Series(CS_count[1],index = Ft.columns)\n",
    "\n",
    "PValue.sort_values(ascending = False , inplace = True)"
   ]
  },
  {
   "cell_type": "code",
   "execution_count": null,
   "metadata": {
    "colab": {
     "base_uri": "https://localhost:8080/",
     "height": 342
    },
    "id": "MoHSkcPlsCl6",
    "outputId": "d20a4b49-f3e9-4211-f205-4f046b965ba2"
   },
   "outputs": [
    {
     "data": {
      "text/plain": [
       "<matplotlib.axes._subplots.AxesSubplot at 0x7ff99aab8fa0>"
      ]
     },
     "execution_count": 62,
     "metadata": {},
     "output_type": "execute_result"
    },
    {
     "data": {
      "image/png": "[encoded data removed]",
      "text/plain": [
       "<Figure size 432x288 with 1 Axes>"
      ]
     },
     "metadata": {
      "needs_background": "light"
     },
     "output_type": "display_data"
    }
   ],
   "source": [
    "PValue.plot.bar()"
   ]
  },
  {
   "cell_type": "code",
   "execution_count": null,
   "metadata": {
    "id": "NUu4DsuWsFje"
   },
   "outputs": [],
   "source": [
    "#Mutual-Information\n",
    "\n",
    "#Using SelectKBest from scikit-learn's feature_selection module to perform feature selection\n",
    "from sklearn.feature_selection import SelectKBest, mutual_info_classif\n",
    "\n",
    "#Splitting the data into features and labels\n",
    "features = Data.drop('Price', axis=1)\n",
    "labels = Data['Price']\n",
    "\n",
    "#Applying the SelectKBest method using mutual information as the scoring function\n",
    "selector = SelectKBest(score_func=mutual_info_classif, k='all')\n",
    "selected_features = selector.fit_transform(features, labels)\n"
   ]
  },
  {
   "cell_type": "code",
   "execution_count": null,
   "metadata": {
    "colab": {
     "base_uri": "https://localhost:8080/",
     "height": 483
    },
    "id": "C5eVR-uxsu92",
    "outputId": "d577a2a5-e273-4da7-b7bb-c07fceb35057"
   },
   "outputs": [
    {
     "name": "stdout",
     "output_type": "stream",
     "text": [
      "Feature 0: 0.473845796116108\n",
      "Feature 1: 0.07595356677427567\n",
      "Feature 2: 0.13466000650185883\n",
      "Feature 3: 0.8691253164149808\n",
      "Feature 4: 0.5911447795668936\n",
      "Feature 5: 0.14014497117853697\n",
      "Feature 6: 0.3496540458736508\n",
      "Feature 7: 0.22103121940922588\n",
      "Feature 8: 0.08211448751303951\n",
      "Feature 9: 0.40330251927358507\n"
     ]
    },
    {
     "data": {
      "image/png": "[encoded data removed]",
      "text/plain": [
       "<Figure size 1440x360 with 1 Axes>"
      ]
     },
     "metadata": {
      "needs_background": "light"
     },
     "output_type": "display_data"
    }
   ],
   "source": [
    "#Using a loop to print out each feature score obtained from the SelectKBest algorithm\n",
    "for i, score in enumerate(selector.scores_):\n",
    "  print(f\"Feature {i}: {score}\")\n",
    "\n",
    "#Creating a bar graph to visualize the feature scores\n",
    "import matplotlib.pyplot as plt\n",
    "plt.figure(figsize=(20, 5))\n",
    "plt.bar(features.columns, selector.scores_)\n",
    "plt.show()"
   ]
  },
  {
   "cell_type": "code",
   "execution_count": null,
   "metadata": {
    "id": "kOXqACB5tWFX"
   },
   "outputs": [],
   "source": []
  },
  {
   "cell_type": "markdown",
   "metadata": {
    "id": "UfnT0XFdtX0R"
   },
   "source": [
    "Random Forest feature importance"
   ]
  },
  {
   "cell_type": "code",
   "execution_count": null,
   "metadata": {
    "colab": {
     "base_uri": "https://localhost:8080/"
    },
    "id": "NhqpDCbGtYdd",
    "outputId": "f35dd6e0-984f-450f-a0d4-724efb9519ab"
   },
   "outputs": [
    {
     "data": {
      "text/plain": [
       "array([0.05102263, 0.12541508, 0.10708521, 0.03489458, 0.07506648,\n",
       "       0.22082313, 0.13125385, 0.12698261, 0.1118269 , 0.01562954])"
      ]
     },
     "execution_count": 65,
     "metadata": {},
     "output_type": "execute_result"
    }
   ],
   "source": [
    "from sklearn.ensemble import RandomForestClassifier\n",
    "from sklearn.model_selection import train_test_split\n",
    "\n",
    "Ft = Data.drop('Price', axis=1)\n",
    "Lb = Data['Price']\n",
    "\n",
    "#Splitting the data into training and testing sets\n",
    "X_train, X_test, y_train, y_test = train_test_split(Ft, Lb, test_size=0.25, random_state=12)\n",
    "\n",
    "#Initializing the Random Forest Classifier\n",
    "\n",
    "RandomForest = RandomForestClassifier(n_estimators=10)\n",
    "#Fitting the model to the training data\n",
    "\n",
    "RandomForest.fit(X_train, y_train)\n",
    "\n",
    "RandomForest.feature_importances_"
   ]
  },
  {
   "cell_type": "code",
   "execution_count": null,
   "metadata": {
    "colab": {
     "base_uri": "https://localhost:8080/",
     "height": 296
    },
    "id": "bjHPqX49t4bO",
    "outputId": "9f953f1a-2c9e-4697-db64-5e221c934d3f"
   },
   "outputs": [
    {
     "data": {
      "text/plain": [
       "Text(0.5, 0, 'Importance of Features in Random Forest Model')"
      ]
     },
     "execution_count": 66,
     "metadata": {},
     "output_type": "execute_result"
    },
    {
     "data": {
      "image/png": "[encoded data removed]",
      "text/plain": [
       "<Figure size 432x288 with 1 Axes>"
      ]
     },
     "metadata": {
      "needs_background": "light"
     },
     "output_type": "display_data"
    }
   ],
   "source": [
    "#Creating a bar plot to visualize the feature importances generated by the Random Forest Model\n",
    "SortedIndex = np.argsort(RandomForest.feature_importances_)\n",
    "plt.barh(Ft.columns[SortedIndex], RandomForest.feature_importances_[SortedIndex])\n",
    "plt.xlabel(\"Importance of Features in Random Forest Model\")"
   ]
  },
  {
   "cell_type": "code",
   "execution_count": 80,
   "metadata": {
    "colab": {
     "base_uri": "https://localhost:8080/"
    },
    "id": "GutQkgb4k8dl",
    "outputId": "e6efb7fa-9b87-4117-804b-4238fc2439c1"
   },
   "outputs": [
    {
     "name": "stdout",
     "output_type": "stream",
     "text": [
      "Price            1.000000\n",
      "Rooms            0.496634\n",
      "Bedroom2         0.475951\n",
      "Bathroom         0.467038\n",
      "YearBuilt        0.323617\n",
      "Car              0.238979\n",
      "Lattitude        0.212934\n",
      "Longtitude       0.203656\n",
      "Distance         0.162522\n",
      "Postcode         0.107867\n",
      "BuildingArea     0.090981\n",
      "Propertycount    0.042153\n",
      "Landsize         0.037507\n",
      "Name: Price, dtype: float64\n"
     ]
    }
   ],
   "source": [
    "import pandas as pd\n",
    "import matplotlib.pyplot as plt\n",
    "\n",
    "corr_matrix = Data.corr()\n",
    "\n",
    "sorted_corr = corr_matrix['Price'].abs().sort_values(ascending=False)\n",
    "\n",
    "# Printing the sorted correlation values\n",
    "print(sorted_corr)\n"
   ]
  },
  {
   "cell_type": "markdown",
   "metadata": {
    "id": "-fMQr89IpdXV"
   },
   "source": [
    "From above all thechniques here are some best features and we have to create feature iomportance bar graph\n",
    "\n",
    "- Rooms\n",
    "- Bedroom1\n",
    "- Bedroom2\n",
    "- Proparty COunt\n",
    "- Building Area\n",
    "- LandSize\n",
    "- Bathroom\n",
    "- Area\n",
    "- Car\n",
    "- Distance"
   ]
  },
  {
   "cell_type": "code",
   "execution_count": 83,
   "metadata": {
    "colab": {
     "base_uri": "https://localhost:8080/",
     "height": 355
    },
    "id": "zdEGdxBIqQBB",
    "outputId": "b052cea4-af13-4a2a-e37e-5ec21ce05072"
   },
   "outputs": [
    {
     "data": {
      "image/png": "[encoded data removed]",
      "text/plain": [
       "<Figure size 432x288 with 1 Axes>"
      ]
     },
     "metadata": {
      "needs_background": "light"
     },
     "output_type": "display_data"
    }
   ],
   "source": [
    "import matplotlib.pyplot as plt\n",
    "\n",
    "# List of selected features from each method\n",
    "corr = ['Rooms','Bedroom2','Bathroom','Landsize','Propertycount']\n",
    "chi2_features = ['Rooms','Bathroom','Car','BuildingArea','Type']\n",
    "mutual_info_features = ['Bathroom','Car','Distance','BuildingArea','Type']\n",
    "rf_features = ['Bathroom','Landsize','BuildingArea','Type']\n",
    "\n",
    "# Create a dictionary to store the scores for each feature\n",
    "scores = {}\n",
    "\n",
    "# Loop through each feature and add the scores from each method to the dictionary\n",
    "for feature in corr:\n",
    "  scores[feature] = scores.get(feature, 0) + 1\n",
    "for feature in chi2_features:\n",
    "  scores[feature] = scores.get(feature, 0) + 1\n",
    "for feature in mutual_info_features:\n",
    "  scores[feature] = scores.get(feature, 0) + 1\n",
    "for feature in rf_features:\n",
    "  scores[feature] = scores.get(feature, 0) + 1\n",
    "\n",
    "# Sort the features based on the total scores\n",
    "sorted_features = sorted(scores, key=scores.get, reverse=True)\n",
    "\n",
    "# Create a bar plot of the sorted features and their scores\n",
    "plt.bar(sorted_features, [scores[feature] for feature in sorted_features])\n",
    "plt.xlabel(\"Features\")\n",
    "plt.ylabel(\"Total Score\")\n",
    "plt.title(\"Important Features from all Methods\")\n",
    "plt.xticks(rotation=90)\n",
    "plt.show()\n"
   ]
  },
  {
   "cell_type": "code",
   "execution_count": 80,
   "metadata": {
    "id": "-1tg2Xztpvlf"
   },
   "outputs": [],
   "source": []
  },
  {
   "cell_type": "markdown",
   "metadata": {
    "id": "-HiD1Q7rx2Sb"
   },
   "source": [
    "Here From the bar graph Bathroom, Building area are the best importance features and distance and proparty type are not to much affecting the price \n",
    "\n",
    "so according to all four techniques Mutual-Information performed very vell where as random forest is not so good"
   ]
  },
  {
   "cell_type": "markdown",
   "metadata": {
    "id": "WuvA9hEyydLJ"
   },
   "source": [
    "Conclusion:\n",
    "feature selection techniques depend on a data type we get but in this data Mutual information is the best one but Random forest is not so good"
   ]
  }
 ],
 "metadata": {
  "colab": {
   "provenance": [],
   "toc_visible": true
  },
  "kernelspec": {
   "display_name": "Python 3 (ipykernel)",
   "language": "python",
   "name": "python3"
  },
  "language_info": {
   "codemirror_mode": {
    "name": "ipython",
    "version": 3
   },
   "file_extension": ".py",
   "mimetype": "text/x-python",
   "name": "python",
   "nbconvert_exporter": "python",
   "pygments_lexer": "ipython3",
   "version": "3.9.13"
  }
 },
 "nbformat": 4,
 "nbformat_minor": 1
}
